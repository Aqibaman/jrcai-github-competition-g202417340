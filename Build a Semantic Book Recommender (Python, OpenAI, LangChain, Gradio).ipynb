{
 "cells": [
  {
   "cell_type": "markdown",
   "id": "2ed8315d-d2cb-47af-b104-983eaabbc004",
   "metadata": {},
   "source": [
    "## Necessary Packages"
   ]
  },
  {
   "cell_type": "code",
   "execution_count": 2,
   "id": "311167cf-bf5a-4f30-96c5-99f163e39fa8",
   "metadata": {},
   "outputs": [],
   "source": [
    "# pip install kagglehub"
   ]
  },
  {
   "cell_type": "code",
   "execution_count": 3,
   "id": "c6c497a8-5e51-4950-ac89-beb703fabee3",
   "metadata": {},
   "outputs": [],
   "source": [
    "# pip install langchain"
   ]
  },
  {
   "cell_type": "code",
   "execution_count": 4,
   "id": "548bd853-5631-4e01-b17d-763e9ff3e7fb",
   "metadata": {},
   "outputs": [],
   "source": [
    "# pip install langchain-community"
   ]
  },
  {
   "cell_type": "code",
   "execution_count": 5,
   "id": "b0a938ad-4fcd-4f3a-8249-8efe4fadfe4f",
   "metadata": {},
   "outputs": [],
   "source": [
    "# pip install langchain-openai"
   ]
  },
  {
   "cell_type": "code",
   "execution_count": 6,
   "id": "b51ffab6-b8d7-4e7a-9134-c81d9a19c76b",
   "metadata": {},
   "outputs": [],
   "source": [
    "# pip install langchain-chroma"
   ]
  },
  {
   "cell_type": "code",
   "execution_count": 7,
   "id": "aa425a90-96ae-48e1-ad85-611243e3d248",
   "metadata": {},
   "outputs": [],
   "source": [
    "# pip install transformers"
   ]
  },
  {
   "cell_type": "code",
   "execution_count": 8,
   "id": "551ff841-4d83-4d76-9fc8-8917e6ee1276",
   "metadata": {},
   "outputs": [],
   "source": [
    "# pip install gradio"
   ]
  },
  {
   "cell_type": "code",
   "execution_count": 9,
   "id": "16065370-e26f-4db3-b702-4c6dab679979",
   "metadata": {},
   "outputs": [],
   "source": [
    "# pip install ipywidgets"
   ]
  },
  {
   "cell_type": "markdown",
   "id": "354d03f1-9ec7-4773-9acb-cff4334097f7",
   "metadata": {},
   "source": [
    "## Kagglehub package Importing"
   ]
  },
  {
   "cell_type": "code",
   "execution_count": 20,
   "id": "7508d5da-4f06-48fc-8b13-a600fba70f77",
   "metadata": {},
   "outputs": [
    {
     "name": "stdout",
     "output_type": "stream",
     "text": [
      "Downloading from https://www.kaggle.com/api/v1/datasets/download/dylanjcastillo/7k-books-with-metadata?dataset_version_number=3...\n"
     ]
    },
    {
     "name": "stderr",
     "output_type": "stream",
     "text": [
      "100%|██████████| 1.47M/1.47M [00:00<00:00, 1.56MB/s]"
     ]
    },
    {
     "name": "stdout",
     "output_type": "stream",
     "text": [
      "Extracting files...\n",
      "Path to dataset files: C:\\Users\\DELL\\.cache\\kagglehub\\datasets\\dylanjcastillo\\7k-books-with-metadata\\versions\\3\n"
     ]
    },
    {
     "name": "stderr",
     "output_type": "stream",
     "text": [
      "\n"
     ]
    }
   ],
   "source": [
    "import kagglehub\n",
    "\n",
    "# Download latest version\n",
    "path = kagglehub.dataset_download(\"dylanjcastillo/7k-books-with-metadata\")\n",
    "\n",
    "print(\"Path to dataset files:\", path)"
   ]
  },
  {
   "cell_type": "code",
   "execution_count": null,
   "id": "784dd7ef-23e5-4cd6-8127-8f142e7c1b58",
   "metadata": {},
   "outputs": [],
   "source": []
  }
 ],
 "metadata": {
  "kernelspec": {
   "display_name": "Python [conda env:base] *",
   "language": "python",
   "name": "conda-base-py"
  },
  "language_info": {
   "codemirror_mode": {
    "name": "ipython",
    "version": 3
   },
   "file_extension": ".py",
   "mimetype": "text/x-python",
   "name": "python",
   "nbconvert_exporter": "python",
   "pygments_lexer": "ipython3",
   "version": "3.11.11"
  }
 },
 "nbformat": 4,
 "nbformat_minor": 5
}
